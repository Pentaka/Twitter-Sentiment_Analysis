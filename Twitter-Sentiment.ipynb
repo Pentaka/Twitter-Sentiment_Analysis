{
 "cells": [
  {
   "cell_type": "code",
   "execution_count": 176,
   "id": "680cfa50-3469-42fc-ba34-0d9554f68458",
   "metadata": {},
   "outputs": [],
   "source": [
    "import pandas as pd\n",
    "import numpy as np\n",
    "from sklearn.model_selection import train_test_split\n",
    "from sklearn.feature_extraction.text import TfidfVectorizer\n",
    "from sklearn.naive_bayes import MultinomialNB\n",
    "from sklearn.metrics import accuracy_score, classification_report"
   ]
  },
  {
   "cell_type": "code",
   "execution_count": 178,
   "id": "fe2e581c-f401-4aa2-9dfa-652869842804",
   "metadata": {},
   "outputs": [],
   "source": [
    "column_names = ['id', 'game', 'sentiment', 'text']"
   ]
  },
  {
   "cell_type": "code",
   "execution_count": 180,
   "id": "7f093bbe-8d90-4efe-aa7d-f30c24d172cc",
   "metadata": {},
   "outputs": [],
   "source": [
    "# Loading the Dataset\n",
    "training_data = pd.read_csv('twitter_training.csv', names=column_names)  # Eğitim verisi\n",
    "validation_data = pd.read_csv('twitter_validation.csv', names=column_names)  # Doğrulama verisi"
   ]
  },
  {
   "cell_type": "code",
   "execution_count": 181,
   "id": "d8e7c4e7-2cbc-489e-94d6-0946afe22d66",
   "metadata": {},
   "outputs": [
    {
     "data": {
      "text/html": [
       "<div>\n",
       "<style scoped>\n",
       "    .dataframe tbody tr th:only-of-type {\n",
       "        vertical-align: middle;\n",
       "    }\n",
       "\n",
       "    .dataframe tbody tr th {\n",
       "        vertical-align: top;\n",
       "    }\n",
       "\n",
       "    .dataframe thead th {\n",
       "        text-align: right;\n",
       "    }\n",
       "</style>\n",
       "<table border=\"1\" class=\"dataframe\">\n",
       "  <thead>\n",
       "    <tr style=\"text-align: right;\">\n",
       "      <th></th>\n",
       "      <th>id</th>\n",
       "      <th>game</th>\n",
       "      <th>sentiment</th>\n",
       "      <th>text</th>\n",
       "    </tr>\n",
       "  </thead>\n",
       "  <tbody>\n",
       "    <tr>\n",
       "      <th>0</th>\n",
       "      <td>2401</td>\n",
       "      <td>Borderlands</td>\n",
       "      <td>Positive</td>\n",
       "      <td>im getting on borderlands and i will murder yo...</td>\n",
       "    </tr>\n",
       "    <tr>\n",
       "      <th>1</th>\n",
       "      <td>2401</td>\n",
       "      <td>Borderlands</td>\n",
       "      <td>Positive</td>\n",
       "      <td>I am coming to the borders and I will kill you...</td>\n",
       "    </tr>\n",
       "    <tr>\n",
       "      <th>2</th>\n",
       "      <td>2401</td>\n",
       "      <td>Borderlands</td>\n",
       "      <td>Positive</td>\n",
       "      <td>im getting on borderlands and i will kill you ...</td>\n",
       "    </tr>\n",
       "    <tr>\n",
       "      <th>3</th>\n",
       "      <td>2401</td>\n",
       "      <td>Borderlands</td>\n",
       "      <td>Positive</td>\n",
       "      <td>im coming on borderlands and i will murder you...</td>\n",
       "    </tr>\n",
       "    <tr>\n",
       "      <th>4</th>\n",
       "      <td>2401</td>\n",
       "      <td>Borderlands</td>\n",
       "      <td>Positive</td>\n",
       "      <td>im getting on borderlands 2 and i will murder ...</td>\n",
       "    </tr>\n",
       "    <tr>\n",
       "      <th>...</th>\n",
       "      <td>...</td>\n",
       "      <td>...</td>\n",
       "      <td>...</td>\n",
       "      <td>...</td>\n",
       "    </tr>\n",
       "    <tr>\n",
       "      <th>74647</th>\n",
       "      <td>9195</td>\n",
       "      <td>Nvidia</td>\n",
       "      <td>Neutral</td>\n",
       "      <td>NVIDIA has released a security update for its ...</td>\n",
       "    </tr>\n",
       "    <tr>\n",
       "      <th>74648</th>\n",
       "      <td>9195</td>\n",
       "      <td>Nvidia</td>\n",
       "      <td>Neutral</td>\n",
       "      <td>NVIDIA has released a security update for its ...</td>\n",
       "    </tr>\n",
       "    <tr>\n",
       "      <th>74649</th>\n",
       "      <td>9195</td>\n",
       "      <td>Nvidia</td>\n",
       "      <td>Neutral</td>\n",
       "      <td>NVIDIA released another software update for it...</td>\n",
       "    </tr>\n",
       "    <tr>\n",
       "      <th>74650</th>\n",
       "      <td>9195</td>\n",
       "      <td>Nvidia</td>\n",
       "      <td>Neutral</td>\n",
       "      <td>NVIDIA released a new security update for its ...</td>\n",
       "    </tr>\n",
       "    <tr>\n",
       "      <th>74651</th>\n",
       "      <td>9195</td>\n",
       "      <td>Nvidia</td>\n",
       "      <td>Neutral</td>\n",
       "      <td>NVIDIA released its substantial update for its...</td>\n",
       "    </tr>\n",
       "  </tbody>\n",
       "</table>\n",
       "<p>74652 rows × 4 columns</p>\n",
       "</div>"
      ],
      "text/plain": [
       "         id         game sentiment  \\\n",
       "0      2401  Borderlands  Positive   \n",
       "1      2401  Borderlands  Positive   \n",
       "2      2401  Borderlands  Positive   \n",
       "3      2401  Borderlands  Positive   \n",
       "4      2401  Borderlands  Positive   \n",
       "...     ...          ...       ...   \n",
       "74647  9195       Nvidia   Neutral   \n",
       "74648  9195       Nvidia   Neutral   \n",
       "74649  9195       Nvidia   Neutral   \n",
       "74650  9195       Nvidia   Neutral   \n",
       "74651  9195       Nvidia   Neutral   \n",
       "\n",
       "                                                    text  \n",
       "0      im getting on borderlands and i will murder yo...  \n",
       "1      I am coming to the borders and I will kill you...  \n",
       "2      im getting on borderlands and i will kill you ...  \n",
       "3      im coming on borderlands and i will murder you...  \n",
       "4      im getting on borderlands 2 and i will murder ...  \n",
       "...                                                  ...  \n",
       "74647  NVIDIA has released a security update for its ...  \n",
       "74648  NVIDIA has released a security update for its ...  \n",
       "74649  NVIDIA released another software update for it...  \n",
       "74650  NVIDIA released a new security update for its ...  \n",
       "74651  NVIDIA released its substantial update for its...  \n",
       "\n",
       "[74652 rows x 4 columns]"
      ]
     },
     "execution_count": 181,
     "metadata": {},
     "output_type": "execute_result"
    }
   ],
   "source": [
    "training_data.head(-30)"
   ]
  },
  {
   "cell_type": "code",
   "execution_count": 184,
   "id": "1330b638-4b40-4f99-a66f-16f4194ae7b0",
   "metadata": {},
   "outputs": [
    {
     "name": "stdout",
     "output_type": "stream",
     "text": [
      "id             0\n",
      "game           0\n",
      "sentiment      0\n",
      "text         686\n",
      "dtype: int64\n"
     ]
    }
   ],
   "source": [
    "print(training_data.isnull().sum())"
   ]
  },
  {
   "cell_type": "code",
   "execution_count": 186,
   "id": "36efb928-ce88-4c11-9065-b0a3f6642873",
   "metadata": {},
   "outputs": [
    {
     "name": "stdout",
     "output_type": "stream",
     "text": [
      "id           0\n",
      "game         0\n",
      "sentiment    0\n",
      "text         0\n",
      "dtype: int64\n"
     ]
    }
   ],
   "source": [
    "print(validation_data.isnull().sum())"
   ]
  },
  {
   "cell_type": "code",
   "execution_count": 188,
   "id": "d90d6cbb-4f3c-4478-a5e8-bddea4975263",
   "metadata": {},
   "outputs": [],
   "source": [
    "training_data = training_data.dropna(subset=['text'])"
   ]
  },
  {
   "cell_type": "code",
   "execution_count": 190,
   "id": "baa9fae5-fda6-4d19-86ca-4fa86dd6cad4",
   "metadata": {},
   "outputs": [
    {
     "name": "stdout",
     "output_type": "stream",
     "text": [
      "id           0\n",
      "game         0\n",
      "sentiment    0\n",
      "text         0\n",
      "dtype: int64\n"
     ]
    }
   ],
   "source": [
    "print(training_data.isnull().sum())"
   ]
  },
  {
   "cell_type": "code",
   "execution_count": 192,
   "id": "fed313d2-1fcd-4ce6-9c05-971368880ba9",
   "metadata": {},
   "outputs": [
    {
     "data": {
      "text/plain": [
       "array(['Borderlands', 'CallOfDutyBlackopsColdWar', 'Amazon', 'Overwatch',\n",
       "       'Xbox(Xseries)', 'NBA2K', 'Dota2', 'PlayStation5(PS5)',\n",
       "       'WorldOfCraft', 'CS-GO', 'Google', 'AssassinsCreed', 'ApexLegends',\n",
       "       'LeagueOfLegends', 'Fortnite', 'Microsoft', 'Hearthstone',\n",
       "       'Battlefield', 'PlayerUnknownsBattlegrounds(PUBG)', 'Verizon',\n",
       "       'HomeDepot', 'FIFA', 'RedDeadRedemption(RDR)', 'CallOfDuty',\n",
       "       'TomClancysRainbowSix', 'Facebook', 'GrandTheftAuto(GTA)',\n",
       "       'MaddenNFL', 'johnson&johnson', 'Cyberpunk2077',\n",
       "       'TomClancysGhostRecon', 'Nvidia'], dtype=object)"
      ]
     },
     "execution_count": 192,
     "metadata": {},
     "output_type": "execute_result"
    }
   ],
   "source": [
    "training_data['game'].unique()"
   ]
  },
  {
   "cell_type": "code",
   "execution_count": 194,
   "id": "bbd947b2-6345-42e4-9138-01c1ee26517c",
   "metadata": {},
   "outputs": [
    {
     "data": {
      "text/plain": [
       "array(['Positive', 'Neutral', 'Negative', 'Irrelevant'], dtype=object)"
      ]
     },
     "execution_count": 194,
     "metadata": {},
     "output_type": "execute_result"
    }
   ],
   "source": [
    "training_data['sentiment'].unique()"
   ]
  },
  {
   "cell_type": "code",
   "execution_count": 196,
   "id": "d57b4e5a-53bb-481d-9c95-bc085fc4cae3",
   "metadata": {},
   "outputs": [],
   "source": [
    "def preprocess_text(text):\n",
    "    text = str(text)\n",
    "    # Convert to lower case\n",
    "    text = text.lower()\n",
    "    # Removing URLs (if any)\n",
    "    text = re.sub(r'http\\S+|www\\S+|https\\S+', '', text, flags=re.MULTILINE)\n",
    "    # Remove usernames (@username)\n",
    "    text = re.sub(r'@\\w+', '', text)\n",
    "    # Removing special characters and numbers\n",
    "    text = re.sub(r'\\W', ' ', text)\n",
    "    text = re.sub(r'\\d', ' ', text)\n",
    "    # Removing excess spaces\n",
    "    text = re.sub(r'\\s+', ' ', text).strip()\n",
    "    return text"
   ]
  },
  {
   "cell_type": "code",
   "execution_count": 198,
   "id": "ad74aac7-def4-41e7-b139-e7e0f4d114d5",
   "metadata": {},
   "outputs": [
    {
     "name": "stdout",
     "output_type": "stream",
     "text": [
      "Doğruluk: 0.964\n",
      "              precision    recall  f1-score   support\n",
      "\n",
      "  Irrelevant       1.00      0.89      0.94       172\n",
      "    Negative       0.95      0.98      0.96       266\n",
      "     Neutral       0.98      0.97      0.98       285\n",
      "    Positive       0.94      0.99      0.96       277\n",
      "\n",
      "    accuracy                           0.96      1000\n",
      "   macro avg       0.97      0.96      0.96      1000\n",
      "weighted avg       0.97      0.96      0.96      1000\n",
      "\n"
     ]
    }
   ],
   "source": [
    "# Preprocessing texts\n",
    "training_data['text'] = training_data['text'].apply(preprocess_text)\n",
    "validation_data['text'] = validation_data['text'].apply(preprocess_text)\n",
    "\n",
    "# We merge the columns 'game' and 'text'\n",
    "X_train = training_data['game'] + \" \" + training_data['text']\n",
    "y_train = training_data['sentiment']\n",
    "X_val = validation_data['game'] + \" \" + validation_data['text']\n",
    "y_val = validation_data['sentiment']\n",
    "\n",
    "# Converting texts with TF-IDF\n",
    "vectorizer = TfidfVectorizer(stop_words='english', ngram_range=(1, 2))\n",
    "X_train_tfidf = vectorizer.fit_transform(X_train)\n",
    "X_val_tfidf = vectorizer.transform(X_val)\n",
    "\n",
    "# Train the model\n",
    "model = MultinomialNB()\n",
    "model.fit(X_train_tfidf, y_train)\n",
    "\n",
    "# Prediction\n",
    "y_pred = model.predict(X_val_tfidf)\n",
    "\n",
    "# Model Evaluation\n",
    "print('Doğruluk:', accuracy_score(y_val, y_pred))\n",
    "print(classification_report(y_val, y_pred))"
   ]
  },
  {
   "cell_type": "code",
   "execution_count": 199,
   "id": "dede06ba-0543-494c-81bc-ba5f1d0e798b",
   "metadata": {},
   "outputs": [
    {
     "name": "stdin",
     "output_type": "stream",
     "text": [
      "input the game name:  Borderland\n",
      "input the text:  this game is so bad\n"
     ]
    },
    {
     "name": "stdout",
     "output_type": "stream",
     "text": [
      "Predicted emotion: Negative\n"
     ]
    }
   ],
   "source": [
    "# Receiving data input from the user\n",
    "game_input = input(\"input the game name: \")\n",
    "text_input = input(\"input the text: \")\n",
    "\n",
    "# Preprocessing the input\n",
    "input_data = [game_input + \" \" + text_input]\n",
    "input_data_preprocessed = [preprocess_text(text) for text in input_data]\n",
    "\n",
    "# Convert with TF-IDF\n",
    "input_tfidf = vectorizer.transform(input_data_preprocessed)\n",
    "\n",
    "# prediction\n",
    "predicted_sentiment = model.predict(input_tfidf)\n",
    "\n",
    "print(\"Predicted emotion:\", predicted_sentiment[0])"
   ]
  },
  {
   "cell_type": "code",
   "execution_count": null,
   "id": "a1232a40-7da0-4c4b-807b-fc94da9324ea",
   "metadata": {},
   "outputs": [],
   "source": []
  }
 ],
 "metadata": {
  "kernelspec": {
   "display_name": "Python 3 (ipykernel)",
   "language": "python",
   "name": "python3"
  },
  "language_info": {
   "codemirror_mode": {
    "name": "ipython",
    "version": 3
   },
   "file_extension": ".py",
   "mimetype": "text/x-python",
   "name": "python",
   "nbconvert_exporter": "python",
   "pygments_lexer": "ipython3",
   "version": "3.12.4"
  }
 },
 "nbformat": 4,
 "nbformat_minor": 5
}
